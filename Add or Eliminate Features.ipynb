{
  "nbformat": 4,
  "nbformat_minor": 0,
  "metadata": {
    "colab": {
      "provenance": [],
      "authorship_tag": "ABX9TyPDuJHnst0vKAzXmPldd+zc",
      "include_colab_link": true
    },
    "kernelspec": {
      "name": "python3",
      "display_name": "Python 3"
    },
    "language_info": {
      "name": "python"
    }
  },
  "cells": [
    {
      "cell_type": "markdown",
      "metadata": {
        "id": "view-in-github",
        "colab_type": "text"
      },
      "source": [
        "<a href=\"https://colab.research.google.com/github/troders34/Machine-Learning/blob/main/Add%20or%20Eliminate%20Features.ipynb\" target=\"_parent\"><img src=\"https://colab.research.google.com/assets/colab-badge.svg\" alt=\"Open In Colab\"/></a>"
      ]
    },
    {
      "cell_type": "code",
      "execution_count": 1,
      "metadata": {
        "colab": {
          "base_uri": "https://localhost:8080/"
        },
        "id": "d7fm7w8JFvi3",
        "outputId": "e13c8c91-a2ae-42cd-82bf-f1dc448cb466"
      },
      "outputs": [
        {
          "output_type": "stream",
          "name": "stdout",
          "text": [
            "Machine Learning Developer International :\n",
            "                Name  Age\n",
            "0       Iman Gadzhi   33\n",
            "1  Nicholas Saputra   36\n",
            "2      Motaz Azaiza   35\n",
            "\n",
            " Split Column 'Name', then add two columns: \n",
            "                Name  Age     First     Last\n",
            "0       Iman Gadzhi   33      Iman   Gadzhi\n",
            "1  Nicholas Saputra   36  Nicholas  Saputra\n",
            "2      Motaz Azaiza   35     Motaz   Azaiza\n"
          ]
        }
      ],
      "source": [
        "import pandas as pd\n",
        "\n",
        "Developer = pd.DataFrame({'Name': ['Iman Gadzhi', 'Nicholas Saputra', 'Motaz Azaiza'],\n",
        "                          'Age': [33, 36, 35]})\n",
        "print(\"Machine Learning Developer International :\\n\", Developer)\n",
        "\n",
        "Developer[['First', 'Last']]=Developer.Name.str.split(expand=True)\n",
        "print(\"\\n Split Column 'Name', then add two columns: \\n\", Developer)"
      ]
    }
  ]
}