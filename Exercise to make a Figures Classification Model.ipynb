{
  "nbformat": 4,
  "nbformat_minor": 0,
  "metadata": {
    "colab": {
      "provenance": [],
      "authorship_tag": "ABX9TyN9kMkfGji2zkJgYVZvm3a7",
      "include_colab_link": true
    },
    "kernelspec": {
      "name": "python3",
      "display_name": "Python 3"
    },
    "language_info": {
      "name": "python"
    }
  },
  "cells": [
    {
      "cell_type": "markdown",
      "metadata": {
        "id": "view-in-github",
        "colab_type": "text"
      },
      "source": [
        "<a href=\"https://colab.research.google.com/github/troders34/Machine-Learning/blob/main/Exercise%20to%20make%20a%20Figures%20Classification%20Model.ipynb\" target=\"_parent\"><img src=\"https://colab.research.google.com/assets/colab-badge.svg\" alt=\"Open In Colab\"/></a>"
      ]
    },
    {
      "cell_type": "code",
      "execution_count": 10,
      "metadata": {
        "colab": {
          "base_uri": "https://localhost:8080/"
        },
        "id": "BLhhIizmF2Cc",
        "outputId": "e0606982-da9b-4e8f-a50f-7073c27f1a85"
      },
      "outputs": [
        {
          "output_type": "stream",
          "name": "stdout",
          "text": [
            "2.15.0\n"
          ]
        }
      ],
      "source": [
        "import tensorflow as tf\n",
        "print(tf.__version__)"
      ]
    },
    {
      "cell_type": "code",
      "source": [
        "!wget --no-check-certificate \\\n",
        "  https://dicoding-academy-assets.sgp1.cdn.digitaloceanspaces.com/184/messy-vs-clean-room.zip \\\n",
        "  -O /tmp/messy_vs_clean_room.zip"
      ],
      "metadata": {
        "colab": {
          "base_uri": "https://localhost:8080/"
        },
        "id": "eEUxH4vcGH1P",
        "outputId": "747fcdb4-ff0e-42ca-dd0f-241e7079b063"
      },
      "execution_count": 11,
      "outputs": [
        {
          "output_type": "stream",
          "name": "stdout",
          "text": [
            "--2024-06-12 07:37:23--  https://dicoding-academy-assets.sgp1.cdn.digitaloceanspaces.com/184/messy-vs-clean-room.zip\n",
            "Resolving dicoding-academy-assets.sgp1.cdn.digitaloceanspaces.com (dicoding-academy-assets.sgp1.cdn.digitaloceanspaces.com)... 104.18.42.227, 172.64.145.29, 2606:4700:4400::6812:2ae3, ...\n",
            "Connecting to dicoding-academy-assets.sgp1.cdn.digitaloceanspaces.com (dicoding-academy-assets.sgp1.cdn.digitaloceanspaces.com)|104.18.42.227|:443... connected.\n",
            "HTTP request sent, awaiting response... 200 OK\n",
            "Cookie coming from dicoding-academy-assets.sgp1.cdn.digitaloceanspaces.com attempted to set domain to digitaloceanspaces.com\n",
            "Length: 70392746 (67M) [application/zip]\n",
            "Saving to: ‘/tmp/messy_vs_clean_room.zip’\n",
            "\n",
            "/tmp/messy_vs_clean 100%[===================>]  67.13M   208MB/s    in 0.3s    \n",
            "\n",
            "2024-06-12 07:37:23 (208 MB/s) - ‘/tmp/messy_vs_clean_room.zip’ saved [70392746/70392746]\n",
            "\n"
          ]
        }
      ]
    },
    {
      "cell_type": "code",
      "source": [
        "# hold an extraction in the zipped-file\n",
        "import zipfile,os\n",
        "local_zip = '/tmp/messy_vs_clean_room.zip'\n",
        "zip_ref = zipfile.ZipFile(local_zip, 'r')\n",
        "zip_ref.extractall('/tmp')\n",
        "zip_ref.close()\n",
        "\n",
        "base_dir = '/tmp/images'\n",
        "train_dir = os.path.join(base_dir, 'train')\n",
        "validation_dir = os.path.join(base_dir, 'val')"
      ],
      "metadata": {
        "id": "FeqOctyxGpIv"
      },
      "execution_count": 12,
      "outputs": []
    },
    {
      "cell_type": "code",
      "source": [
        "os.listdir('/tmp/images/train')"
      ],
      "metadata": {
        "id": "r_LrSHZUTMq-",
        "outputId": "94f6692a-62f0-485c-f742-1d8272fa4a88",
        "colab": {
          "base_uri": "https://localhost:8080/"
        }
      },
      "execution_count": 13,
      "outputs": [
        {
          "output_type": "execute_result",
          "data": {
            "text/plain": [
              "['clean', 'messy']"
            ]
          },
          "metadata": {},
          "execution_count": 13
        }
      ]
    },
    {
      "cell_type": "code",
      "source": [
        "os.listdir('/tmp/images/val')"
      ],
      "metadata": {
        "id": "TDpdDfROTSYC",
        "outputId": "6034a705-40bb-4ea5-f0fc-214acc08b92a",
        "colab": {
          "base_uri": "https://localhost:8080/"
        }
      },
      "execution_count": 14,
      "outputs": [
        {
          "output_type": "execute_result",
          "data": {
            "text/plain": [
              "['clean', 'messy']"
            ]
          },
          "metadata": {},
          "execution_count": 14
        }
      ]
    },
    {
      "cell_type": "code",
      "source": [
        "# create a neat directory in the training data directory\n",
        "#train_clean_dir = os.path.join(train_dir, 'clean')\n",
        "\n",
        "# create a messy directory in the training data directory\n",
        "# validation_clean_dir = os.path.join(train_dir, 'messy')\n",
        "\n",
        "# create a neat directory in the validation data directory\n",
        "# validation_clean_dir = os.path.join(validation_dir, 'clean')\n",
        "\n",
        "# create a messsy directory in the validation data directory\n",
        "# validation_messy_dir = os.path.join(validation_dir, 'messy')"
      ],
      "metadata": {
        "id": "C5CjgWNcTZm9"
      },
      "execution_count": 15,
      "outputs": []
    },
    {
      "cell_type": "code",
      "source": [
        "from types import resolve_bases\n",
        "from tensorflow.keras.preprocessing.image import ImageDataGenerator\n",
        "\n",
        "train_datagen = ImageDataGenerator(\n",
        "    rescale = 1./255,\n",
        "    rotation_range = 20,\n",
        "    horizontal_flip = True,\n",
        "    shear_range = 0.2,\n",
        "    fill_mode = 'nearest'\n",
        ")\n",
        "\n",
        "test_datagen = ImageDataGenerator(\n",
        "    rescale = 1./255\n",
        ")"
      ],
      "metadata": {
        "id": "PL-AzigqIE-g"
      },
      "execution_count": 16,
      "outputs": []
    },
    {
      "cell_type": "code",
      "source": [
        "train_generator = train_datagen.flow_from_directory(\n",
        "    train_dir, # directory for training data\n",
        "    target_size = (150, 150), # change the resolution of all images into 150x150 px\n",
        "    batch_size = 4,\n",
        "    # due to an issue of 2 classes classification, use class_mode = 'binary'\n",
        "    class_mode = 'binary'\n",
        ")\n",
        "\n",
        "validation_generator = test_datagen.flow_from_directory(\n",
        "    validation_dir, # directory for validation data\n",
        "    target_size = (150,150), # change the resolution of all images into 150x150 px\n",
        "    batch_size = 4,\n",
        "    # due to the issue of 2 classes classification, use this class_mode = 'binary'\n",
        "    class_mode = 'binary'\n",
        ")"
      ],
      "metadata": {
        "colab": {
          "base_uri": "https://localhost:8080/"
        },
        "id": "h0l71qTiI3_N",
        "outputId": "8e558be5-ffc7-468d-c63a-acf41e3c9c9a"
      },
      "execution_count": 17,
      "outputs": [
        {
          "output_type": "stream",
          "name": "stdout",
          "text": [
            "Found 192 images belonging to 2 classes.\n",
            "Found 20 images belonging to 2 classes.\n"
          ]
        }
      ]
    },
    {
      "cell_type": "code",
      "source": [
        "model = tf.keras.models.Sequential([\n",
        "    tf.keras.layers.Conv2D(32, (3,3), activation = 'relu', input_shape = (150, 150, 3)),\n",
        "    tf.keras.layers.MaxPooling2D(2,2),\n",
        "    tf.keras.layers.Conv2D(64, (3,3), activation = 'relu'),\n",
        "    tf.keras.layers.MaxPooling2D(2,2),\n",
        "    tf.keras.layers.Conv2D(128, (3,3), activation = 'relu'),\n",
        "    tf.keras.layers.MaxPooling2D(2,2),\n",
        "    tf.keras.layers.Conv2D(512, (3,3), activation = 'relu'),\n",
        "    tf.keras.layers.MaxPooling2D(2,2),\n",
        "    tf.keras.layers.Flatten(),\n",
        "    tf.keras.layers.Dense(512, activation = 'relu'),\n",
        "    tf.keras.layers.Dense(1, activation = 'sigmoid')\n",
        "])"
      ],
      "metadata": {
        "id": "5r8YIIuMKNt9"
      },
      "execution_count": 18,
      "outputs": []
    },
    {
      "cell_type": "code",
      "source": [
        "model.summary()"
      ],
      "metadata": {
        "colab": {
          "base_uri": "https://localhost:8080/"
        },
        "id": "YYTygSsqLdUU",
        "outputId": "14cad40f-ec1e-4597-e22c-d114c8e2cd4f"
      },
      "execution_count": 19,
      "outputs": [
        {
          "output_type": "stream",
          "name": "stdout",
          "text": [
            "Model: \"sequential_1\"\n",
            "_________________________________________________________________\n",
            " Layer (type)                Output Shape              Param #   \n",
            "=================================================================\n",
            " conv2d_4 (Conv2D)           (None, 148, 148, 32)      896       \n",
            "                                                                 \n",
            " max_pooling2d_4 (MaxPoolin  (None, 74, 74, 32)        0         \n",
            " g2D)                                                            \n",
            "                                                                 \n",
            " conv2d_5 (Conv2D)           (None, 72, 72, 64)        18496     \n",
            "                                                                 \n",
            " max_pooling2d_5 (MaxPoolin  (None, 36, 36, 64)        0         \n",
            " g2D)                                                            \n",
            "                                                                 \n",
            " conv2d_6 (Conv2D)           (None, 34, 34, 128)       73856     \n",
            "                                                                 \n",
            " max_pooling2d_6 (MaxPoolin  (None, 17, 17, 128)       0         \n",
            " g2D)                                                            \n",
            "                                                                 \n",
            " conv2d_7 (Conv2D)           (None, 15, 15, 512)       590336    \n",
            "                                                                 \n",
            " max_pooling2d_7 (MaxPoolin  (None, 7, 7, 512)         0         \n",
            " g2D)                                                            \n",
            "                                                                 \n",
            " flatten_1 (Flatten)         (None, 25088)             0         \n",
            "                                                                 \n",
            " dense_2 (Dense)             (None, 512)               12845568  \n",
            "                                                                 \n",
            " dense_3 (Dense)             (None, 1)                 513       \n",
            "                                                                 \n",
            "=================================================================\n",
            "Total params: 13529665 (51.61 MB)\n",
            "Trainable params: 13529665 (51.61 MB)\n",
            "Non-trainable params: 0 (0.00 Byte)\n",
            "_________________________________________________________________\n"
          ]
        }
      ]
    },
    {
      "cell_type": "code",
      "source": [
        "# compile the model with 'adam' optimizer loss function 'binary_crossentropy'\n",
        "model.compile(loss = 'binary_crossentropy',\n",
        "              optimizer = tf.optimizers.Adam(),\n",
        "              metrics = ['accuracy'])"
      ],
      "metadata": {
        "id": "bwCubM2xL3yH"
      },
      "execution_count": 20,
      "outputs": []
    },
    {
      "cell_type": "code",
      "source": [
        "# train the model with model.fit\n",
        "history = model.fit(\n",
        "      train_generator,\n",
        "      steps_per_epoch = 25,\n",
        "      # how many batch will be executed in every epoch?\n",
        "      epochs = 25,\n",
        "      # add epoch if the model's accuracy is not optimised yet\n",
        "      validation_data = validation_generator,\n",
        "      # show the testing accuracy of the validation data\n",
        "      validation_steps = 5,\n",
        "      # how many batch will be executed in every epoch?\n",
        "      verbose = 2\n",
        ")"
      ],
      "metadata": {
        "colab": {
          "base_uri": "https://localhost:8080/"
        },
        "id": "QhMCwLAFMN2G",
        "outputId": "f2588d06-5ff0-4ced-8dc1-c1a7c7d0779b"
      },
      "execution_count": 21,
      "outputs": [
        {
          "output_type": "stream",
          "name": "stdout",
          "text": [
            "Epoch 1/25\n",
            "25/25 - 16s - loss: 0.7824 - accuracy: 0.4100 - val_loss: 0.6924 - val_accuracy: 0.5000 - 16s/epoch - 654ms/step\n",
            "Epoch 2/25\n",
            "25/25 - 14s - loss: 0.6922 - accuracy: 0.5600 - val_loss: 0.6831 - val_accuracy: 0.5000 - 14s/epoch - 556ms/step\n",
            "Epoch 3/25\n",
            "25/25 - 14s - loss: 0.6803 - accuracy: 0.6000 - val_loss: 0.6292 - val_accuracy: 0.6500 - 14s/epoch - 553ms/step\n",
            "Epoch 4/25\n",
            "25/25 - 14s - loss: 0.7263 - accuracy: 0.5500 - val_loss: 0.6926 - val_accuracy: 0.5000 - 14s/epoch - 556ms/step\n",
            "Epoch 5/25\n",
            "25/25 - 14s - loss: 0.6931 - accuracy: 0.4900 - val_loss: 0.6931 - val_accuracy: 0.5000 - 14s/epoch - 548ms/step\n",
            "Epoch 6/25\n",
            "25/25 - 14s - loss: 0.6966 - accuracy: 0.5200 - val_loss: 0.6923 - val_accuracy: 0.5000 - 14s/epoch - 550ms/step\n",
            "Epoch 7/25\n",
            "25/25 - 14s - loss: 0.6927 - accuracy: 0.5000 - val_loss: 0.6928 - val_accuracy: 0.5000 - 14s/epoch - 550ms/step\n",
            "Epoch 8/25\n",
            "25/25 - 14s - loss: 0.6939 - accuracy: 0.4400 - val_loss: 0.6923 - val_accuracy: 0.5000 - 14s/epoch - 550ms/step\n",
            "Epoch 9/25\n",
            "25/25 - 14s - loss: 0.6924 - accuracy: 0.5900 - val_loss: 0.6906 - val_accuracy: 0.5000 - 14s/epoch - 554ms/step\n",
            "Epoch 10/25\n",
            "25/25 - 14s - loss: 0.6840 - accuracy: 0.6000 - val_loss: 0.6846 - val_accuracy: 0.5000 - 14s/epoch - 554ms/step\n",
            "Epoch 11/25\n",
            "25/25 - 14s - loss: 0.7126 - accuracy: 0.5900 - val_loss: 0.6662 - val_accuracy: 0.5500 - 14s/epoch - 543ms/step\n",
            "Epoch 12/25\n",
            "25/25 - 14s - loss: 0.7075 - accuracy: 0.4400 - val_loss: 0.6850 - val_accuracy: 0.5000 - 14s/epoch - 542ms/step\n",
            "Epoch 13/25\n",
            "25/25 - 14s - loss: 0.6785 - accuracy: 0.5400 - val_loss: 0.6263 - val_accuracy: 0.5500 - 14s/epoch - 554ms/step\n",
            "Epoch 14/25\n",
            "25/25 - 15s - loss: 0.6256 - accuracy: 0.6400 - val_loss: 0.5013 - val_accuracy: 0.8000 - 15s/epoch - 608ms/step\n",
            "Epoch 15/25\n",
            "25/25 - 14s - loss: 0.5793 - accuracy: 0.7000 - val_loss: 0.4180 - val_accuracy: 0.8000 - 14s/epoch - 541ms/step\n",
            "Epoch 16/25\n",
            "25/25 - 14s - loss: 0.6182 - accuracy: 0.7000 - val_loss: 0.5495 - val_accuracy: 0.7000 - 14s/epoch - 544ms/step\n",
            "Epoch 17/25\n",
            "25/25 - 14s - loss: 0.5960 - accuracy: 0.7100 - val_loss: 0.4204 - val_accuracy: 0.8000 - 14s/epoch - 541ms/step\n",
            "Epoch 18/25\n",
            "25/25 - 14s - loss: 0.5565 - accuracy: 0.8200 - val_loss: 0.5898 - val_accuracy: 0.6500 - 14s/epoch - 544ms/step\n",
            "Epoch 19/25\n",
            "25/25 - 14s - loss: 0.5205 - accuracy: 0.7600 - val_loss: 0.3920 - val_accuracy: 0.9000 - 14s/epoch - 543ms/step\n",
            "Epoch 20/25\n",
            "25/25 - 14s - loss: 0.5513 - accuracy: 0.7700 - val_loss: 0.4301 - val_accuracy: 0.8500 - 14s/epoch - 549ms/step\n",
            "Epoch 21/25\n",
            "25/25 - 14s - loss: 0.5713 - accuracy: 0.8200 - val_loss: 0.6435 - val_accuracy: 0.6500 - 14s/epoch - 547ms/step\n",
            "Epoch 22/25\n",
            "25/25 - 14s - loss: 0.6804 - accuracy: 0.6700 - val_loss: 0.5631 - val_accuracy: 0.7000 - 14s/epoch - 541ms/step\n",
            "Epoch 23/25\n",
            "25/25 - 14s - loss: 0.5746 - accuracy: 0.7600 - val_loss: 0.4959 - val_accuracy: 0.8500 - 14s/epoch - 553ms/step\n",
            "Epoch 24/25\n",
            "25/25 - 14s - loss: 0.4820 - accuracy: 0.8100 - val_loss: 0.4988 - val_accuracy: 0.7500 - 14s/epoch - 556ms/step\n",
            "Epoch 25/25\n",
            "25/25 - 14s - loss: 0.5165 - accuracy: 0.7700 - val_loss: 0.4872 - val_accuracy: 0.7000 - 14s/epoch - 544ms/step\n"
          ]
        }
      ]
    },
    {
      "cell_type": "code",
      "source": [
        "import numpy as np\n",
        "from google.colab import files\n",
        "from tensorflow.keras.preprocessing import image\n",
        "import matplotlib.pyplot as plt\n",
        "import matplotlib.image as mpimg\n",
        "import matplotlib.pyplot as plt\n",
        "import matplotlib.image as mpimg\n",
        "%matplotlib inline\n",
        "\n",
        "uploaded = files.upload()\n",
        "\n",
        "for fn in uploaded.keys():\n",
        "\n",
        "  # predicting images\n",
        "  path = fn\n",
        "  img = image.load_img(path, target_size=(150,150))\n",
        "\n",
        "  imgplot = plt.imshow(img)\n",
        "  x = image.img_to_array(img)\n",
        "  x = np.expand_dims(x, axis=0)\n",
        "  images = np.vstack([x])\n",
        "\n",
        "  classes = model.predict(images, batch_size=10)\n",
        "  print(fn)\n",
        "  if classes==1:\n",
        "   print('messy')\n",
        "  else:\n",
        "   print('clean')"
      ],
      "metadata": {
        "id": "lyAO6i82VBmm",
        "outputId": "a8708a8a-2e0e-42e3-c660-8a5b004d9f4e",
        "colab": {
          "base_uri": "https://localhost:8080/",
          "height": 542
        }
      },
      "execution_count": 25,
      "outputs": [
        {
          "output_type": "display_data",
          "data": {
            "text/plain": [
              "<IPython.core.display.HTML object>"
            ],
            "text/html": [
              "\n",
              "     <input type=\"file\" id=\"files-305ddac9-83d4-41b8-9fc3-24488116bd5f\" name=\"files[]\" multiple disabled\n",
              "        style=\"border:none\" />\n",
              "     <output id=\"result-305ddac9-83d4-41b8-9fc3-24488116bd5f\">\n",
              "      Upload widget is only available when the cell has been executed in the\n",
              "      current browser session. Please rerun this cell to enable.\n",
              "      </output>\n",
              "      <script>// Copyright 2017 Google LLC\n",
              "//\n",
              "// Licensed under the Apache License, Version 2.0 (the \"License\");\n",
              "// you may not use this file except in compliance with the License.\n",
              "// You may obtain a copy of the License at\n",
              "//\n",
              "//      http://www.apache.org/licenses/LICENSE-2.0\n",
              "//\n",
              "// Unless required by applicable law or agreed to in writing, software\n",
              "// distributed under the License is distributed on an \"AS IS\" BASIS,\n",
              "// WITHOUT WARRANTIES OR CONDITIONS OF ANY KIND, either express or implied.\n",
              "// See the License for the specific language governing permissions and\n",
              "// limitations under the License.\n",
              "\n",
              "/**\n",
              " * @fileoverview Helpers for google.colab Python module.\n",
              " */\n",
              "(function(scope) {\n",
              "function span(text, styleAttributes = {}) {\n",
              "  const element = document.createElement('span');\n",
              "  element.textContent = text;\n",
              "  for (const key of Object.keys(styleAttributes)) {\n",
              "    element.style[key] = styleAttributes[key];\n",
              "  }\n",
              "  return element;\n",
              "}\n",
              "\n",
              "// Max number of bytes which will be uploaded at a time.\n",
              "const MAX_PAYLOAD_SIZE = 100 * 1024;\n",
              "\n",
              "function _uploadFiles(inputId, outputId) {\n",
              "  const steps = uploadFilesStep(inputId, outputId);\n",
              "  const outputElement = document.getElementById(outputId);\n",
              "  // Cache steps on the outputElement to make it available for the next call\n",
              "  // to uploadFilesContinue from Python.\n",
              "  outputElement.steps = steps;\n",
              "\n",
              "  return _uploadFilesContinue(outputId);\n",
              "}\n",
              "\n",
              "// This is roughly an async generator (not supported in the browser yet),\n",
              "// where there are multiple asynchronous steps and the Python side is going\n",
              "// to poll for completion of each step.\n",
              "// This uses a Promise to block the python side on completion of each step,\n",
              "// then passes the result of the previous step as the input to the next step.\n",
              "function _uploadFilesContinue(outputId) {\n",
              "  const outputElement = document.getElementById(outputId);\n",
              "  const steps = outputElement.steps;\n",
              "\n",
              "  const next = steps.next(outputElement.lastPromiseValue);\n",
              "  return Promise.resolve(next.value.promise).then((value) => {\n",
              "    // Cache the last promise value to make it available to the next\n",
              "    // step of the generator.\n",
              "    outputElement.lastPromiseValue = value;\n",
              "    return next.value.response;\n",
              "  });\n",
              "}\n",
              "\n",
              "/**\n",
              " * Generator function which is called between each async step of the upload\n",
              " * process.\n",
              " * @param {string} inputId Element ID of the input file picker element.\n",
              " * @param {string} outputId Element ID of the output display.\n",
              " * @return {!Iterable<!Object>} Iterable of next steps.\n",
              " */\n",
              "function* uploadFilesStep(inputId, outputId) {\n",
              "  const inputElement = document.getElementById(inputId);\n",
              "  inputElement.disabled = false;\n",
              "\n",
              "  const outputElement = document.getElementById(outputId);\n",
              "  outputElement.innerHTML = '';\n",
              "\n",
              "  const pickedPromise = new Promise((resolve) => {\n",
              "    inputElement.addEventListener('change', (e) => {\n",
              "      resolve(e.target.files);\n",
              "    });\n",
              "  });\n",
              "\n",
              "  const cancel = document.createElement('button');\n",
              "  inputElement.parentElement.appendChild(cancel);\n",
              "  cancel.textContent = 'Cancel upload';\n",
              "  const cancelPromise = new Promise((resolve) => {\n",
              "    cancel.onclick = () => {\n",
              "      resolve(null);\n",
              "    };\n",
              "  });\n",
              "\n",
              "  // Wait for the user to pick the files.\n",
              "  const files = yield {\n",
              "    promise: Promise.race([pickedPromise, cancelPromise]),\n",
              "    response: {\n",
              "      action: 'starting',\n",
              "    }\n",
              "  };\n",
              "\n",
              "  cancel.remove();\n",
              "\n",
              "  // Disable the input element since further picks are not allowed.\n",
              "  inputElement.disabled = true;\n",
              "\n",
              "  if (!files) {\n",
              "    return {\n",
              "      response: {\n",
              "        action: 'complete',\n",
              "      }\n",
              "    };\n",
              "  }\n",
              "\n",
              "  for (const file of files) {\n",
              "    const li = document.createElement('li');\n",
              "    li.append(span(file.name, {fontWeight: 'bold'}));\n",
              "    li.append(span(\n",
              "        `(${file.type || 'n/a'}) - ${file.size} bytes, ` +\n",
              "        `last modified: ${\n",
              "            file.lastModifiedDate ? file.lastModifiedDate.toLocaleDateString() :\n",
              "                                    'n/a'} - `));\n",
              "    const percent = span('0% done');\n",
              "    li.appendChild(percent);\n",
              "\n",
              "    outputElement.appendChild(li);\n",
              "\n",
              "    const fileDataPromise = new Promise((resolve) => {\n",
              "      const reader = new FileReader();\n",
              "      reader.onload = (e) => {\n",
              "        resolve(e.target.result);\n",
              "      };\n",
              "      reader.readAsArrayBuffer(file);\n",
              "    });\n",
              "    // Wait for the data to be ready.\n",
              "    let fileData = yield {\n",
              "      promise: fileDataPromise,\n",
              "      response: {\n",
              "        action: 'continue',\n",
              "      }\n",
              "    };\n",
              "\n",
              "    // Use a chunked sending to avoid message size limits. See b/62115660.\n",
              "    let position = 0;\n",
              "    do {\n",
              "      const length = Math.min(fileData.byteLength - position, MAX_PAYLOAD_SIZE);\n",
              "      const chunk = new Uint8Array(fileData, position, length);\n",
              "      position += length;\n",
              "\n",
              "      const base64 = btoa(String.fromCharCode.apply(null, chunk));\n",
              "      yield {\n",
              "        response: {\n",
              "          action: 'append',\n",
              "          file: file.name,\n",
              "          data: base64,\n",
              "        },\n",
              "      };\n",
              "\n",
              "      let percentDone = fileData.byteLength === 0 ?\n",
              "          100 :\n",
              "          Math.round((position / fileData.byteLength) * 100);\n",
              "      percent.textContent = `${percentDone}% done`;\n",
              "\n",
              "    } while (position < fileData.byteLength);\n",
              "  }\n",
              "\n",
              "  // All done.\n",
              "  yield {\n",
              "    response: {\n",
              "      action: 'complete',\n",
              "    }\n",
              "  };\n",
              "}\n",
              "\n",
              "scope.google = scope.google || {};\n",
              "scope.google.colab = scope.google.colab || {};\n",
              "scope.google.colab._files = {\n",
              "  _uploadFiles,\n",
              "  _uploadFilesContinue,\n",
              "};\n",
              "})(self);\n",
              "</script> "
            ]
          },
          "metadata": {}
        },
        {
          "output_type": "stream",
          "name": "stdout",
          "text": [
            "Saving a78b5cee98e6a8ba1f539ab43049fdfd.jpg to a78b5cee98e6a8ba1f539ab43049fdfd.jpg\n",
            "1/1 [==============================] - 0s 292ms/step\n",
            "a78b5cee98e6a8ba1f539ab43049fdfd.jpg\n",
            "messy\n"
          ]
        },
        {
          "output_type": "display_data",
          "data": {
            "text/plain": [
              "<Figure size 640x480 with 1 Axes>"
            ],
            "image/png": "[encoded data removed]"
          },
          "metadata": {}
        }
      ]
    },
    {
      "cell_type": "code",
      "source": [
        "print(train_generator.class_indices)"
      ],
      "metadata": {
        "id": "TgrFTND3aRKU",
        "outputId": "3b27adac-bc52-4508-aa21-ff3ff0113c2b",
        "colab": {
          "base_uri": "https://localhost:8080/"
        }
      },
      "execution_count": 26,
      "outputs": [
        {
          "output_type": "stream",
          "name": "stdout",
          "text": [
            "{'clean': 0, 'messy': 1}\n"
          ]
        }
      ]
    }
  ]
}